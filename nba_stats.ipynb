{
 "cells": [
  {
   "cell_type": "code",
   "execution_count": 5,
   "id": "36423876-d47d-4781-8bb1-19138f90f6f9",
   "metadata": {},
   "outputs": [
    {
     "name": "stdout",
     "output_type": "stream",
     "text": [
      "['GROUP_SET', 'GROUP_VALUE', 'GP', 'W', 'L', 'W_PCT', 'MIN', 'FGM', 'FGA', 'FG_PCT', 'FG3M', 'FG3A', 'FG3_PCT', 'FTM', 'FTA', 'FT_PCT', 'OREB', 'DREB', 'REB', 'AST', 'TOV', 'STL', 'BLK', 'BLKA', 'PF', 'PFD', 'PTS', 'PLUS_MINUS', 'NBA_FANTASY_PTS', 'DD2', 'TD3', 'WNBA_FANTASY_PTS', 'GP_RANK', 'W_RANK', 'L_RANK', 'W_PCT_RANK', 'MIN_RANK', 'FGM_RANK', 'FGA_RANK', 'FG_PCT_RANK', 'FG3M_RANK', 'FG3A_RANK', 'FG3_PCT_RANK', 'FTM_RANK', 'FTA_RANK', 'FT_PCT_RANK', 'OREB_RANK', 'DREB_RANK', 'REB_RANK', 'AST_RANK', 'TOV_RANK', 'STL_RANK', 'BLK_RANK', 'BLKA_RANK', 'PF_RANK', 'PFD_RANK', 'PTS_RANK', 'PLUS_MINUS_RANK', 'NBA_FANTASY_PTS_RANK', 'DD2_RANK', 'TD3_RANK', 'WNBA_FANTASY_PTS_RANK']\n",
      "956\n"
     ]
    }
   ],
   "source": [
    "from nba_api.stats.endpoints import playervsplayer\n",
    "from nba_api.stats.endpoints import playerdashboardbygeneralsplits\n",
    "\n",
    "# Pull data for points scored last season when Shai Gilgeous-Alexander (player_id: 1628983) for the OKC was on the court\n",
    "shai_id = 1628983\n",
    "okc_id = 1610612760\n",
    "\n",
    "def get_team_on_court_stats(player_id, team_id):\n",
    "    dashboard = playerdashboardbygeneralsplits.PlayerDashboardByGeneralSplits(player_id=player_id, season='2022-23')\n",
    "    on_court_stats = dashboard.get_dict().get('resultSets')[1]  # OnCourt result set\n",
    "    return on_court_stats\n",
    "\n",
    "def get_player_vs_player(player_id, vs_player_id):\n",
    "    pvp = playervsplayer.PlayerVsPlayer(player_id=player_id, vs_player_id=vs_player_id, season='2022-23', per_mode_detailed='Per100Possessions')\n",
    "    pvp = pvp.get_dict().get('resultSets')\n",
    "    return pvp\n",
    "\n",
    "def main():\n",
    "    get_team_on_court_stats(1628983, 1610612760)\n",
    "    shai_stats = get_team_on_court_stats(shai_id, okc_id)\n",
    "    print(shai_stats.get('headers'))\n",
    "    pts_index = shai_stats.get('headers').index('PTS')\n",
    "    print(shai_stats.get('rowSet')[0][pts_index])\n",
    "\n",
    "if __name__ == '__main__':\n",
    "    main()\n"
   ]
  },
  {
   "cell_type": "code",
   "execution_count": null,
   "id": "3dfd15f0",
   "metadata": {},
   "outputs": [],
   "source": []
  }
 ],
 "metadata": {
  "kernelspec": {
   "display_name": "Python 3 (ipykernel)",
   "language": "python",
   "name": "python3"
  },
  "language_info": {
   "codemirror_mode": {
    "name": "ipython",
    "version": 3
   },
   "file_extension": ".py",
   "mimetype": "text/x-python",
   "name": "python",
   "nbconvert_exporter": "python",
   "pygments_lexer": "ipython3",
   "version": "3.12.4"
  }
 },
 "nbformat": 4,
 "nbformat_minor": 5
}
